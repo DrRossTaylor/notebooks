{
  "nbformat": 4,
  "nbformat_minor": 0,
  "metadata": {
    "kernelspec": {
      "display_name": "Python 3",
      "language": "python",
      "name": "python3"
    },
    "language_info": {
      "codemirror_mode": {
        "name": "ipython",
        "version": 3
      },
      "file_extension": ".py",
      "mimetype": "text/x-python",
      "name": "python",
      "nbconvert_exporter": "python",
      "pygments_lexer": "ipython3",
      "version": "3.6.5"
    },
    "colab": {
      "name": "hw03.ipynb",
      "provenance": [],
      "include_colab_link": true
    }
  },
  "cells": [
    {
      "cell_type": "markdown",
      "metadata": {
        "id": "view-in-github",
        "colab_type": "text"
      },
      "source": [
        "<a href=\"https://colab.research.google.com/github/DrRossTaylor/notebooks/blob/master/hw/hw03/hw03.ipynb\" target=\"_parent\"><img src=\"https://colab.research.google.com/assets/colab-badge.svg\" alt=\"Open In Colab\"/></a>"
      ]
    },
    {
      "cell_type": "markdown",
      "metadata": {
        "id": "DkwRisyGqe2M"
      },
      "source": [
        "# Homework 3: Table Manipulation and Visualization"
      ]
    },
    {
      "cell_type": "markdown",
      "metadata": {
        "id": "xCvLkzKSqe2M"
      },
      "source": [
        "**Reading**: \n",
        "* [Visualization](https://www.inferentialthinking.com/chapters/07/visualization.html)"
      ]
    },
    {
      "cell_type": "markdown",
      "metadata": {
        "id": "iwZUH459qe2N"
      },
      "source": [
        "Please complete this notebook by filling in the cells provided. Before you begin, execute the following cell to load the provided tests. Each time you start your server, you will need to execute this cell again to load the tests.\n",
        "\n",
        "Throughout this homework and all future ones, please be sure to not re-assign variables throughout the notebook! For example, if you use `max_temperature` in your answer to one question, do not reassign it later on. Moreover, please be sure to only put your written answers in the provided cells. "
      ]
    },
    {
      "cell_type": "code",
      "metadata": {
        "id": "jTH8I__Eqe2N"
      },
      "source": [
        "# Don't change this cell; just run it. \n",
        "\n",
        "import numpy as np\n",
        "from datascience import *\n",
        "\n",
        "\n",
        "# These lines do some fancy plotting magic.\\n\",\n",
        "import matplotlib\n",
        "%matplotlib inline\n",
        "import matplotlib.pyplot as plots\n",
        "plots.style.use('fivethirtyeight')"
      ],
      "execution_count": null,
      "outputs": []
    },
    {
      "cell_type": "markdown",
      "metadata": {
        "id": "cCb4xadTqe2O"
      },
      "source": [
        "## 1. Unemployment\n"
      ]
    },
    {
      "cell_type": "markdown",
      "metadata": {
        "id": "DQAQihbWqe2O"
      },
      "source": [
        "The Federal Reserve Bank of St. Louis publishes data about jobs in the US.  Below, we've loaded data on unemployment in the United States. There are many ways of defining unemployment, and our dataset includes two notions of the unemployment rate:\n",
        "\n",
        "1. Among people who are able to work and are looking for a full-time job, the percentage who can't find a job.  This is called the Non-Employment Index, or NEI.\n",
        "2. Among people who are able to work and are looking for a full-time job, the percentage who can't find any job *or* are only working at a part-time job.  The latter group is called \"Part-Time for Economic Reasons\", so the acronym for this index is NEI-PTER.  (Economists are great at marketing.)\n",
        "\n",
        "The source of the data is [here](https://fred.stlouisfed.org/categories/33509)."
      ]
    },
    {
      "cell_type": "markdown",
      "metadata": {
        "deletable": false,
        "editable": false,
        "id": "qlbRhTqYqe2P"
      },
      "source": [
        "**Question 1.** The data are in a CSV file called `unemployment.csv`.  Load that file into a table called `unemployment`.\n",
        "\n",
        "<!--\n",
        "BEGIN QUESTION\n",
        "name: q1_1\n",
        "-->"
      ]
    },
    {
      "cell_type": "code",
      "metadata": {
        "id": "BVux2Hxzqe2P"
      },
      "source": [
        "unemployment = ...\n",
        "unemployment"
      ],
      "execution_count": null,
      "outputs": []
    },
    {
      "cell_type": "markdown",
      "metadata": {
        "deletable": false,
        "editable": false,
        "id": "U7oVj3h7qe2P"
      },
      "source": [
        "**Question 2.** Sort the data in descending order by NEI, naming the sorted table `by_nei`.  Create another table called `by_nei_pter` that's sorted in descending order by NEI-PTER instead.\n",
        "\n",
        "<!--\n",
        "BEGIN QUESTION\n",
        "name: q1_2\n",
        "-->"
      ]
    },
    {
      "cell_type": "code",
      "metadata": {
        "id": "YdgVg8Jkqe2Q"
      },
      "source": [
        "by_nei = ...\n",
        "by_nei_pter = ..."
      ],
      "execution_count": null,
      "outputs": []
    },
    {
      "cell_type": "markdown",
      "metadata": {
        "deletable": false,
        "editable": false,
        "id": "GDpKG2crqe2Q"
      },
      "source": [
        "**Question 3.** Use `take` to make a table containing the data for the 10 quarters when NEI was greatest.  Call that table `greatest_nei`.\n",
        "\n",
        "`greatest_nei` should be sorted in descending order of `NEI`. Note that each row of `unemployment` represents a quarter.\n",
        "\n",
        "<!--\n",
        "BEGIN QUESTION\n",
        "name: q1_3\n",
        "-->"
      ]
    },
    {
      "cell_type": "code",
      "metadata": {
        "id": "s40QDXg5qe2Q"
      },
      "source": [
        "greatest_nei = ...\n",
        "greatest_nei"
      ],
      "execution_count": null,
      "outputs": []
    },
    {
      "cell_type": "markdown",
      "metadata": {
        "deletable": false,
        "editable": false,
        "id": "JIJ9eJ6Eqe2R"
      },
      "source": [
        "**Question 4.** It's believed that many people became PTER (recall: \"Part-Time for Economic Reasons\") in the \"Great Recession\" of 2008-2009.  NEI-PTER is the percentage of people who are unemployed (and counted in the NEI) plus the percentage of people who are PTER.  Compute an array containing the percentage of people who were PTER in each quarter.  (The first element of the array should correspond to the first row of `unemployment`, and so on.)\n",
        "\n",
        "*Note:* Use the original `unemployment` table for this.\n",
        "\n",
        "<!--\n",
        "BEGIN QUESTION\n",
        "name: q1_4\n",
        "-->"
      ]
    },
    {
      "cell_type": "code",
      "metadata": {
        "id": "4Fta_-wkqe2R"
      },
      "source": [
        "pter = ...\n",
        "pter"
      ],
      "execution_count": null,
      "outputs": []
    },
    {
      "cell_type": "markdown",
      "metadata": {
        "deletable": false,
        "editable": false,
        "id": "L0_ERGBKqe2S"
      },
      "source": [
        "**Question 5.** Add `pter` as a column to `unemployment` (named \"PTER\") and sort the resulting table by that column in descending order.  Call the table `by_pter`.\n",
        "\n",
        "Try to do this with a single line of code, if you can.\n",
        "\n",
        "<!--\n",
        "BEGIN QUESTION\n",
        "name: q1_5\n",
        "-->"
      ]
    },
    {
      "cell_type": "code",
      "metadata": {
        "id": "7s7qkv_Hqe2S"
      },
      "source": [
        "by_pter = ...\n",
        "by_pter"
      ],
      "execution_count": null,
      "outputs": []
    },
    {
      "cell_type": "markdown",
      "metadata": {
        "deletable": false,
        "editable": false,
        "id": "xN7qKSLkqe2S"
      },
      "source": [
        "**Question 6.** \n",
        "\n",
        "Create a line plot of the PTER over time. \n",
        "\n",
        "To do this, create a new table called `pter_over_time` that adds the `year` array and the `pter` array to the `unemployment` table. Label these columns `Year` and `PTER`. Then, generate a line plot using one of the table methods you've learned in class.\n",
        "\n",
        "<!--\n",
        "BEGIN QUESTION\n",
        "name: q1_6\n",
        "-->"
      ]
    },
    {
      "cell_type": "code",
      "metadata": {
        "scrolled": false,
        "id": "bAgRLzU3qe2S"
      },
      "source": [
        "year = 1994 + np.arange(by_pter.num_rows)/4\n",
        "pter_over_time = ...\n",
        "..."
      ],
      "execution_count": null,
      "outputs": []
    },
    {
      "cell_type": "markdown",
      "metadata": {
        "deletable": false,
        "editable": false,
        "id": "doYOReGVqe2T"
      },
      "source": [
        "**Question 7.** Were PTER rates high during the Great Recession (that is to say, were PTER rates particularly high in the years 2008 through 2011)? Assign highPTER to `True` if you think PTER rates were high in this period, and `False` if you think they weren't. \n",
        "\n",
        "<!--\n",
        "BEGIN QUESTION\n",
        "name: q1_7\n",
        "-->"
      ]
    },
    {
      "cell_type": "code",
      "metadata": {
        "collapsed": true,
        "id": "B7rUp33fqe2T"
      },
      "source": [
        "highPTER = ..."
      ],
      "execution_count": null,
      "outputs": []
    },
    {
      "cell_type": "markdown",
      "metadata": {
        "id": "vDYgRsotqe2T"
      },
      "source": [
        "## 2. Birth Rates\n"
      ]
    },
    {
      "cell_type": "markdown",
      "metadata": {
        "id": "vRMHtGC8qe2U"
      },
      "source": [
        "The following table gives census-based population estimates for each state on both July 1, 2015 and July 1, 2016. The last four columns describe the components of the estimated change in population during this time interval. **For all questions below, assume that the word \"states\" refers to all 52 rows including Puerto Rico & the District of Columbia.**\n",
        "\n",
        "The data was taken from [here](http://www2.census.gov/programs-surveys/popest/datasets/2010-2016/national/totals/nst-est2016-alldata.csv).\n",
        "\n",
        "If you want to read more about the different column descriptions, click [here](http://www2.census.gov/programs-surveys/popest/datasets/2010-2015/national/totals/nst-est2015-alldata.pdf)!"
      ]
    },
    {
      "cell_type": "code",
      "metadata": {
        "id": "o8mv1cq2qe2U"
      },
      "source": [
        "# Don't change this cell; just run it.\n",
        "pop = Table.read_table('nst-est2016-alldata.csv').where('SUMLEV', 40).select([1, 4, 12, 13, 27, 34, 62, 69])\n",
        "pop = pop.relabeled('POPESTIMATE2015', '2015').relabeled('POPESTIMATE2016', '2016')\n",
        "pop = pop.relabeled('BIRTHS2016', 'BIRTHS').relabeled('DEATHS2016', 'DEATHS')\n",
        "pop = pop.relabeled('NETMIG2016', 'MIGRATION').relabeled('RESIDUAL2016', 'OTHER')\n",
        "pop.set_format([2, 3, 4, 5, 6, 7], NumberFormatter(decimals=0)).show(5)"
      ],
      "execution_count": null,
      "outputs": []
    },
    {
      "cell_type": "markdown",
      "metadata": {
        "deletable": false,
        "editable": false,
        "id": "9RAWZazBqe2V"
      },
      "source": [
        "**Question 1.** Assign `us_birth_rate` to the total US annual birth rate during this time interval. The annual birth rate for a year-long period is the total number of births in that period as a proportion of the population size at the start of the time period.\n",
        "\n",
        "**Hint:** Which year corresponds to the start of the time period?\n",
        "\n",
        "<!--\n",
        "BEGIN QUESTION\n",
        "name: q2_1\n",
        "-->"
      ]
    },
    {
      "cell_type": "code",
      "metadata": {
        "id": "M7oWL4Hoqe2V"
      },
      "source": [
        "us_birth_rate = ...\n",
        "us_birth_rate"
      ],
      "execution_count": null,
      "outputs": []
    },
    {
      "cell_type": "markdown",
      "metadata": {
        "deletable": false,
        "editable": false,
        "id": "B_YNl6cuqe2W"
      },
      "source": [
        "**Question 2.** Assign `movers` to the number of states for which the **absolute value** of the **annual rate of migration** was higher than 1%. The annual rate of migration for a year-long period is the net number of migrations (in and out) as a proportion of the population size at the start of the period. The `MIGRATION` column contains estimated annual net migration counts by state.\n",
        "\n",
        "<!--\n",
        "BEGIN QUESTION\n",
        "name: q2_2\n",
        "-->"
      ]
    },
    {
      "cell_type": "code",
      "metadata": {
        "id": "lQTTF32Fqe2W"
      },
      "source": [
        "migration_rates = ...\n",
        "movers = ...\n",
        "movers"
      ],
      "execution_count": null,
      "outputs": []
    },
    {
      "cell_type": "markdown",
      "metadata": {
        "deletable": false,
        "editable": false,
        "id": "TOTxtoZcqe2W"
      },
      "source": [
        "**Question 3.** Assign `west_births` to the total number of births that occurred in region 4 (the Western US). \n",
        "\n",
        "**Hint:** Make sure you double check the type of the values in the region column.\n",
        "\n",
        "<!--\n",
        "BEGIN QUESTION\n",
        "name: q2_3\n",
        "-->"
      ]
    },
    {
      "cell_type": "code",
      "metadata": {
        "id": "tV-7FIurqe2X"
      },
      "source": [
        "west_births = ...\n",
        "west_births"
      ],
      "execution_count": null,
      "outputs": []
    },
    {
      "cell_type": "markdown",
      "metadata": {
        "deletable": false,
        "editable": false,
        "id": "GxeUCdCXqe2X"
      },
      "source": [
        "**Question 4.** Assign `less_than_west_births` to the number of states that had a total population in 2016 that was smaller than the *total number of births in region 4 (the Western US)* during this time interval.\n",
        "\n",
        "<!--\n",
        "BEGIN QUESTION\n",
        "name: q2_4\n",
        "-->"
      ]
    },
    {
      "cell_type": "code",
      "metadata": {
        "id": "bF0vLY2Aqe2X"
      },
      "source": [
        "less_than_west_births = ...\n",
        "less_than_west_births"
      ],
      "execution_count": null,
      "outputs": []
    },
    {
      "cell_type": "markdown",
      "metadata": {
        "deletable": false,
        "editable": false,
        "id": "KyuwAIWPqe2Y"
      },
      "source": [
        "**Question 5.** \n",
        "\n",
        "In the next question, you will be creating a visualization to understand the relationship between birth and death rates. The annual death rate for a year-long period is the total number of deaths in that period as a proportion of the population size at the start of the time period.\n",
        "\n",
        "What visualization is most appropriate to see if there is an association between birth and death rates during a given time interval?\n",
        "\n",
        "1. Line Graph\n",
        "<br>\n",
        "2. Scatter Plot\n",
        "<br>\n",
        "3. Bar Chart\n",
        "\n",
        "Assign `visualization` below to the number corresponding to the correct visualization.\n",
        "\n",
        "<!--\n",
        "BEGIN QUESTION\n",
        "name: q2_5\n",
        "-->"
      ]
    },
    {
      "cell_type": "code",
      "metadata": {
        "collapsed": true,
        "id": "kBFIZgjcqe2Y"
      },
      "source": [
        "visualization = ..."
      ],
      "execution_count": null,
      "outputs": []
    },
    {
      "cell_type": "markdown",
      "metadata": {
        "deletable": false,
        "editable": false,
        "id": "7oyEsvzJqe2Y"
      },
      "source": [
        "**Question 6.** \n",
        "\n",
        "In the code cell below, create a visualization that will help us determine if there is an association between birth rate and death rate during this time interval. It may be helpful to create an intermediate table here.\n",
        "\n",
        "<!--\n",
        "BEGIN QUESTION\n",
        "name: q2_6\n",
        "manual: true\n",
        "-->\n",
        "<!-- EXPORT TO PDF -->"
      ]
    },
    {
      "cell_type": "code",
      "metadata": {
        "deletable": false,
        "export_pdf": true,
        "manual_problem_id": "birth_death_rates_graph",
        "id": "pHk-jTARqe2Y"
      },
      "source": [
        "# Generate your chart in this cell\n",
        "..."
      ],
      "execution_count": null,
      "outputs": []
    },
    {
      "cell_type": "markdown",
      "metadata": {
        "deletable": false,
        "editable": false,
        "id": "tTXW-17Bqe2Z"
      },
      "source": [
        "**Question 7.** `True` or `False`: There is an association between birth rate and death rate during this time interval. \n",
        "\n",
        "Assign `assoc` to `True` or `False` in the cell below. \n",
        "\n",
        "<!--\n",
        "BEGIN QUESTION\n",
        "name: q2_7\n",
        "-->"
      ]
    },
    {
      "cell_type": "code",
      "metadata": {
        "collapsed": true,
        "id": "jLZ_oEauqe2Z"
      },
      "source": [
        "assoc = ..."
      ],
      "execution_count": null,
      "outputs": []
    },
    {
      "cell_type": "markdown",
      "metadata": {
        "id": "gUOo8CWQqe2Z"
      },
      "source": [
        "## 3. Marginal Histograms\n"
      ]
    },
    {
      "cell_type": "markdown",
      "metadata": {
        "id": "I7mU1rjyqe2a"
      },
      "source": [
        "Consider the following scatter plot: ![](https://github.com/DrRossTaylor/intro-DS-Assignments/blob/master/hw/hw03/scatter.png?raw=1)\n",
        "\n",
        "The axes of the plot represent values of two variables: $x$ and $y$. "
      ]
    },
    {
      "cell_type": "markdown",
      "metadata": {
        "id": "Ll4ojjwRqe2a"
      },
      "source": [
        "Suppose we have a table called `t` that has two columns in it:\n",
        "\n",
        "- `x`: a column containing the x-values of the points in the scatter plot\n",
        "- `y`: a column containing the y-values of the points in the scatter plot"
      ]
    },
    {
      "cell_type": "markdown",
      "metadata": {
        "id": "Cj1yML8Lqe2a"
      },
      "source": [
        "Below, you are given two histograms, each of which corresponds to either column `x` or column `y`. "
      ]
    },
    {
      "cell_type": "markdown",
      "metadata": {
        "id": "oKwkHjIrqe2a"
      },
      "source": [
        "**Histogram A:** ![](https://github.com/DrRossTaylor/intro-DS-Assignments/blob/master/hw/hw03/var1.png?raw=1)\n",
        "**Histogram B:** ![](https://github.com/DrRossTaylor/intro-DS-Assignments/blob/master/hw/hw03/var2.png?raw=1)"
      ]
    },
    {
      "cell_type": "markdown",
      "metadata": {
        "deletable": false,
        "editable": false,
        "id": "fL6k6WO3qe2a"
      },
      "source": [
        "**Question 1.** Suppose we run `t.hist('x')`. Which histogram does this code produce? Assign `histogram_column_x` to either 1 or 2.\n",
        "\n",
        "1. Histogram A\n",
        "2. Histogram B\n",
        "\n",
        "<!--\n",
        "BEGIN QUESTION\n",
        "name: q3_1\n",
        "manual: false\n",
        "-->"
      ]
    },
    {
      "cell_type": "code",
      "metadata": {
        "collapsed": true,
        "id": "lTq0qp5Cqe2b"
      },
      "source": [
        "histogram_column_x = ..."
      ],
      "execution_count": null,
      "outputs": []
    },
    {
      "cell_type": "markdown",
      "metadata": {
        "deletable": false,
        "editable": false,
        "id": "K0MghIYKqe2b"
      },
      "source": [
        "**Question 2.** Explain why you chose the histogram from Question 1. Make sure to indicate which histogram you selected (ex: \"I chose histogram A because ...\").\n",
        "\n",
        "<!--\n",
        "BEGIN QUESTION\n",
        "name: q3_2\n",
        "manual: true\n",
        "-->\n",
        "<!-- EXPORT TO PDF -->"
      ]
    },
    {
      "cell_type": "markdown",
      "metadata": {
        "export_pdf": true,
        "id": "ormpLN-zqe2b"
      },
      "source": [
        "*Write your answer here, replacing this text.*"
      ]
    },
    {
      "cell_type": "markdown",
      "metadata": {
        "deletable": false,
        "editable": false,
        "id": "XIJ87JjDqe2b"
      },
      "source": [
        "**Question 3.** Suppose we run `t.hist('y')`. Which histogram does this code produce? `Assign histogram_column_y` to either 1 or 2.\n",
        "\n",
        "1. Histogram A\n",
        "2. Histogram B\n",
        "\n",
        "<!--\n",
        "BEGIN QUESTION\n",
        "name: q3_3\n",
        "manual: false\n",
        "-->"
      ]
    },
    {
      "cell_type": "code",
      "metadata": {
        "collapsed": true,
        "id": "kfQ3ziHgqe2b"
      },
      "source": [
        "histogram_column_y = ..."
      ],
      "execution_count": null,
      "outputs": []
    },
    {
      "cell_type": "markdown",
      "metadata": {
        "deletable": false,
        "editable": false,
        "id": "MLenP83aqe2c"
      },
      "source": [
        "**Question 4.** Explain why you chose the histogram from Question 3.  Make sure to indicate which histogram you selected (ex: \"I chose histogram A because ...\").\n",
        "\n",
        "<!--\n",
        "BEGIN QUESTION\n",
        "name: q3_4\n",
        "manual: true\n",
        "-->\n",
        "<!-- EXPORT TO PDF -->"
      ]
    },
    {
      "cell_type": "markdown",
      "metadata": {
        "export_pdf": true,
        "id": "7Pry1ZScqe2c"
      },
      "source": [
        "*Write your answer here, replacing this text.*"
      ]
    },
    {
      "cell_type": "markdown",
      "metadata": {
        "id": "HhJ4yjrjqe2c"
      },
      "source": [
        "## 4. Uber\n"
      ]
    },
    {
      "cell_type": "markdown",
      "metadata": {
        "id": "o7byTT__qe2c"
      },
      "source": [
        "Below we load tables containing 200,000 weekday Uber rides in the Boston, Massachusetts metropolitan area from the [Uber Movement](https://movement.uber.com) project. The `sourceid` and `dstid` columns contain codes corresponding to start and end locations of each ride. The `hod` column contains codes corresponding to the hour of the day the ride took place. The `ride time` table contains the length of the ride, in minutes."
      ]
    },
    {
      "cell_type": "code",
      "metadata": {
        "for_question_type": "solution",
        "scrolled": true,
        "id": "VaneSuNdqe2c"
      },
      "source": [
        "boston = Table.read_table(\"boston.csv\")\n",
        "print(\"Boston Table\")\n",
        "boston.show(4)"
      ],
      "execution_count": null,
      "outputs": []
    },
    {
      "cell_type": "markdown",
      "metadata": {
        "deletable": false,
        "editable": false,
        "id": "gsk3146Yqe2d"
      },
      "source": [
        "**Question 1.** Produce histograms of all ride times in Boston using the given bins. Since the bins have equal width, use the optional argument `normed = False` when you generate the histogram.\n",
        "\n",
        "<!--\n",
        "BEGIN QUESTION\n",
        "name: q4_1\n",
        "manual: true\n",
        "-->\n",
        "<!-- EXPORT TO PDF -->"
      ]
    },
    {
      "cell_type": "code",
      "metadata": {
        "deletable": false,
        "export_pdf": true,
        "manual_problem_id": "uber_1",
        "scrolled": true,
        "id": "WhR7Eh2yqe2d"
      },
      "source": [
        "equal_bins = np.arange(0, 120, 5)\n",
        "..."
      ],
      "execution_count": null,
      "outputs": []
    },
    {
      "cell_type": "markdown",
      "metadata": {
        "deletable": false,
        "editable": false,
        "id": "fdN_z_Yaqe2d"
      },
      "source": [
        "**Question 2.** Now, produce a histogram of all ride times in Boston using the *default* bins. Again, include the optional argument `normed = False` since the bins will have equal width.\n",
        "\n",
        "<!--\n",
        "BEGIN QUESTION\n",
        "name: q4_2\n",
        "manual: true\n",
        "-->\n",
        "<!-- EXPORT TO PDF -->"
      ]
    },
    {
      "cell_type": "code",
      "metadata": {
        "export_pdf": true,
        "id": "yvlEvyhBqe2d"
      },
      "source": [
        "..."
      ],
      "execution_count": null,
      "outputs": []
    },
    {
      "cell_type": "markdown",
      "metadata": {
        "id": "Rso4NrrHqe2d"
      },
      "source": [
        "**Question 3.** Which histogram is better, the first or the second? How might you determine \"good\" bins to use for a given dataset? Be sure to answer in complete sentences.\n",
        "\n",
        "<!--\n",
        "BEGIN QUESTION\n",
        "name: q4_3\n",
        "manual: true\n",
        "-->\n",
        "<!-- EXPORT TO PDF -->"
      ]
    },
    {
      "cell_type": "markdown",
      "metadata": {
        "id": "hrg6GW4aqe2d"
      },
      "source": [
        "*Write your answer here, replacing this text.*"
      ]
    },
    {
      "cell_type": "markdown",
      "metadata": {
        "id": "h4BCuHnZqe2e"
      },
      "source": [
        "## 5. Submit your homework\n"
      ]
    }
  ]
}